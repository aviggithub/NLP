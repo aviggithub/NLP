{
 "cells": [
  {
   "cell_type": "code",
   "execution_count": 1,
   "metadata": {
    "collapsed": true
   },
   "outputs": [],
   "source": [
    "\n",
    "import pandas as pd\n",
    "import numpy as np\n",
    "import os\n",
    "import re \n",
    "from sklearn.model_selection import train_test_split\n",
    "from sklearn.metrics import accuracy_score\n",
    "from nltk.corpus import stopwords\n",
    "from sklearn.pipeline import Pipeline\n",
    "from sklearn.feature_extraction.text import TfidfVectorizer\n",
    "from sklearn.feature_extraction.text import TfidfTransformer\n",
    "from sklearn.linear_model import LogisticRegression\n",
    "from xgboost import XGBClassifier\n",
    "from sklearn.svm import SVC\n",
    "from sklearn.svm import LinearSVC\n",
    "from nltk.corpus import stopwords\n",
    "from sklearn.pipeline import Pipeline\n",
    "from sklearn.ensemble import RandomForestClassifier\n",
    "from sklearn.tree import DecisionTreeClassifier\n",
    "from sklearn.metrics import classification_report, confusion_matrix\n",
    "from textblob import Word\n",
    "ndat=[] \n",
    "test_list=[]"
   ]
  },
  {
   "cell_type": "code",
   "execution_count": 15,
   "metadata": {
    "collapsed": true
   },
   "outputs": [],
   "source": [
    "with open(\"D:\\\\Python project\\\\flipcart query\\\\training.txt\",\"r\") as f:\n",
    "    for p in f:\n",
    "        ndat.append(p.strip())  \n",
    "with open(\"D:\\\\Python project\\\\flipcart query\\\\sampleInput.txt\",\"r\") as myinpt:\n",
    "    for q in myinpt:\n",
    "        test_list.append(q.strip())\n",
    "\n",
    "ndat.pop(0)\n",
    "test_list.pop(0)\n",
    "\n",
    "New_Labels=[\"alldata\"]\n",
    "ndf = pd.DataFrame(ndat)\n",
    "samp_ipdf = pd.DataFrame(test_list)\n",
    "ndf.columns=New_Labels\n",
    "samp_ipdf.columns=New_Labels"
   ]
  },
  {
   "cell_type": "code",
   "execution_count": 16,
   "metadata": {},
   "outputs": [
    {
     "data": {
      "text/html": [
       "<div>\n",
       "<style>\n",
       "    .dataframe thead tr:only-child th {\n",
       "        text-align: right;\n",
       "    }\n",
       "\n",
       "    .dataframe thead th {\n",
       "        text-align: left;\n",
       "    }\n",
       "\n",
       "    .dataframe tbody tr th {\n",
       "        vertical-align: top;\n",
       "    }\n",
       "</style>\n",
       "<table border=\"1\" class=\"dataframe\">\n",
       "  <thead>\n",
       "    <tr style=\"text-align: right;\">\n",
       "      <th></th>\n",
       "      <th>alldata</th>\n",
       "    </tr>\n",
       "  </thead>\n",
       "  <tbody>\n",
       "    <tr>\n",
       "      <th>0</th>\n",
       "      <td>For The Love of Physics (Paperback)\\tphysics</td>\n",
       "    </tr>\n",
       "    <tr>\n",
       "      <th>1</th>\n",
       "      <td>Nike Fission Deodorant Spray  -  200 ml (For M...</td>\n",
       "    </tr>\n",
       "    <tr>\n",
       "      <th>2</th>\n",
       "      <td>Spoken English (With CD) 2nd Edition (Paperbac...</td>\n",
       "    </tr>\n",
       "    <tr>\n",
       "      <th>3</th>\n",
       "      <td>The C++ Programming Language 3 Edition (Paperb...</td>\n",
       "    </tr>\n",
       "    <tr>\n",
       "      <th>4</th>\n",
       "      <td>Sony Cybershot DSC-W610 Point &amp; Shoot (Black)\\...</td>\n",
       "    </tr>\n",
       "  </tbody>\n",
       "</table>\n",
       "</div>"
      ],
      "text/plain": [
       "                                             alldata\n",
       "0       For The Love of Physics (Paperback)\\tphysics\n",
       "1  Nike Fission Deodorant Spray  -  200 ml (For M...\n",
       "2  Spoken English (With CD) 2nd Edition (Paperbac...\n",
       "3  The C++ Programming Language 3 Edition (Paperb...\n",
       "4  Sony Cybershot DSC-W610 Point & Shoot (Black)\\..."
      ]
     },
     "execution_count": 16,
     "metadata": {},
     "output_type": "execute_result"
    }
   ],
   "source": [
    "ndf.head(5)"
   ]
  },
  {
   "cell_type": "code",
   "execution_count": 17,
   "metadata": {},
   "outputs": [],
   "source": [
    "ndf['alldata']=ndf['alldata'].str.replace(\"\\t\",\"_\")     \n",
    "    \n",
    "ndf[['Desription','Product_name']] = ndf.alldata.str.split(\"_\",expand=True,)\n",
    "\n",
    "ndf['Product_name'].value_counts()\n",
    "\n",
    "c = ndf['Product_name'].astype('category')\n",
    "#encoding\n",
    "ndf['targetX'] = c.cat.codes\n"
   ]
  },
  {
   "cell_type": "code",
   "execution_count": 18,
   "metadata": {},
   "outputs": [
    {
     "data": {
      "text/html": [
       "<div>\n",
       "<style>\n",
       "    .dataframe thead tr:only-child th {\n",
       "        text-align: right;\n",
       "    }\n",
       "\n",
       "    .dataframe thead th {\n",
       "        text-align: left;\n",
       "    }\n",
       "\n",
       "    .dataframe tbody tr th {\n",
       "        vertical-align: top;\n",
       "    }\n",
       "</style>\n",
       "<table border=\"1\" class=\"dataframe\">\n",
       "  <thead>\n",
       "    <tr style=\"text-align: right;\">\n",
       "      <th></th>\n",
       "      <th>alldata</th>\n",
       "    </tr>\n",
       "  </thead>\n",
       "  <tbody>\n",
       "    <tr>\n",
       "      <th>0</th>\n",
       "      <td>God Moments: Stories That Inspire, Moments to ...</td>\n",
       "    </tr>\n",
       "    <tr>\n",
       "      <th>1</th>\n",
       "      <td>The Ultimate C: Concepts, Programs and Intervi...</td>\n",
       "    </tr>\n",
       "    <tr>\n",
       "      <th>2</th>\n",
       "      <td>Canon EOS 1100D SLR (Black, with Kit (EF S18-5...</td>\n",
       "    </tr>\n",
       "    <tr>\n",
       "      <th>3</th>\n",
       "      <td>A Textbook of Organic Chemistry for JEE Main &amp;...</td>\n",
       "    </tr>\n",
       "    <tr>\n",
       "      <th>4</th>\n",
       "      <td>Test your C ++ Skills 1 Edition (Paperback)</td>\n",
       "    </tr>\n",
       "  </tbody>\n",
       "</table>\n",
       "</div>"
      ],
      "text/plain": [
       "                                             alldata\n",
       "0  God Moments: Stories That Inspire, Moments to ...\n",
       "1  The Ultimate C: Concepts, Programs and Intervi...\n",
       "2  Canon EOS 1100D SLR (Black, with Kit (EF S18-5...\n",
       "3  A Textbook of Organic Chemistry for JEE Main &...\n",
       "4        Test your C ++ Skills 1 Edition (Paperback)"
      ]
     },
     "execution_count": 18,
     "metadata": {},
     "output_type": "execute_result"
    }
   ],
   "source": [
    "samp_ipdf.head(5)"
   ]
  },
  {
   "cell_type": "code",
   "execution_count": 19,
   "metadata": {
    "collapsed": true
   },
   "outputs": [],
   "source": [
    "d = dict(enumerate(c.cat.categories))\n",
    "ndf['level_back'] = ndf['targetX'].map(d)\n",
    "\n",
    "stop = stopwords.words('english')"
   ]
  },
  {
   "cell_type": "code",
   "execution_count": 20,
   "metadata": {
    "collapsed": true
   },
   "outputs": [],
   "source": [
    "\n",
    "ndf['Desription'] = ndf['Desription'].str.replace(r\"[^a-zA-Z]+\", ' ')\n",
    "ndf['Desription']= ndf['Desription'].str.lower()\n",
    "ndf['Desription']= ndf['Desription'].apply(lambda x: \" \".join(x for x in x.split() if x not in stop))\n"
   ]
  },
  {
   "cell_type": "code",
   "execution_count": 21,
   "metadata": {
    "collapsed": true
   },
   "outputs": [],
   "source": [
    "samp_ipdf['Desription']=samp_ipdf['alldata']\n",
    "samp_ipdf['Desription'] = samp_ipdf['Desription'].str.replace(r\"[^a-zA-Z]+\", ' ')\n",
    "samp_ipdf['Desription']= samp_ipdf['Desription'].str.lower()\n",
    "samp_ipdf['Desription']= samp_ipdf['Desription'].apply(lambda x: \" \".join(x for x in x.split() if x not in stop))\n"
   ]
  },
  {
   "cell_type": "code",
   "execution_count": 22,
   "metadata": {},
   "outputs": [],
   "source": [
    "tf_vect = TfidfVectorizer(norm='l2', use_idf=True, smooth_idf=True, sublinear_tf=False)\n",
    "x_train_tf = tf_vect.fit_transform(ndf['Desription'])\n",
    "x_test_tf = tf_vect.transform(samp_ipdf['Desription'])\n",
    "\n",
    "algo=LinearSVC()"
   ]
  },
  {
   "cell_type": "code",
   "execution_count": 23,
   "metadata": {},
   "outputs": [],
   "source": [
    "X_train, X_test, y_train, y_test = train_test_split(x_train_tf,ndf['targetX'], test_size=0.25)\n",
    "model_lsvc = algo.fit(X_train, y_train)\n"
   ]
  },
  {
   "cell_type": "code",
   "execution_count": 25,
   "metadata": {},
   "outputs": [
    {
     "name": "stdout",
     "output_type": "stream",
     "text": [
      "             precision    recall  f1-score   support\n",
      "\n",
      "          1       1.00      1.00      1.00         3\n",
      "          2       1.00      1.00      1.00         2\n",
      "          3       1.00      1.00      1.00         2\n",
      "          4       1.00      1.00      1.00         1\n",
      "          5       1.00      0.80      0.89         5\n",
      "          6       1.00      0.50      0.67         4\n",
      "          8       1.00      1.00      1.00         2\n",
      "          9       0.67      1.00      0.80         2\n",
      "         10       1.00      1.00      1.00         4\n",
      "         11       1.00      1.00      1.00         3\n",
      "         12       1.00      1.00      1.00         4\n",
      "         13       0.60      1.00      0.75         3\n",
      "         14       1.00      1.00      1.00         5\n",
      "         15       1.00      1.00      1.00         2\n",
      "         16       1.00      1.00      1.00         2\n",
      "         17       1.00      1.00      1.00         3\n",
      "         18       1.00      1.00      1.00         3\n",
      "         19       1.00      1.00      1.00         6\n",
      "\n",
      "avg / total       0.97      0.95      0.95        56\n",
      "\n"
     ]
    }
   ],
   "source": [
    "ytest = np.array(y_test)\n",
    "print(classification_report(ytest, model_lsvc.predict(X_test)))"
   ]
  },
  {
   "cell_type": "code",
   "execution_count": 26,
   "metadata": {},
   "outputs": [
    {
     "data": {
      "text/plain": [
       "0.9464285714285714"
      ]
     },
     "execution_count": 26,
     "metadata": {},
     "output_type": "execute_result"
    }
   ],
   "source": [
    "from sklearn.metrics import accuracy_score\n",
    "accuracy_score(ytest, model_lsvc.predict(X_test))"
   ]
  },
  {
   "cell_type": "code",
   "execution_count": 27,
   "metadata": {
    "collapsed": true
   },
   "outputs": [],
   "source": [
    "algo.fit(x_train_tf,ndf['targetX'])\n",
    "samp_ipdf['Predicted']=algo.predict(x_test_tf)\n",
    "\n",
    "samp_ipdf['output'] = samp_ipdf['Predicted'].map(d)\n",
    "\n",
    "samp_ipdf['output'].value_counts()\n",
    "\n",
    "np.savetxt(r'D:\\\\Python project\\\\flipcart query\\\\output.txt', samp_ipdf['output'], fmt='%s')\n"
   ]
  },
  {
   "cell_type": "code",
   "execution_count": 35,
   "metadata": {},
   "outputs": [
    {
     "data": {
      "image/png": "[encoded data removed]",
      "text/plain": [
       "<matplotlib.figure.Figure at 0xd4ba208>"
      ]
     },
     "metadata": {},
     "output_type": "display_data"
    }
   ],
   "source": [
    "%matplotlib inline\n",
    "import seaborn as sns\n",
    "import matplotlib.pyplot as plt\n",
    "query_count = samp_ipdf['output'].value_counts()\n",
    "sns.set(style=\"darkgrid\")\n",
    "sns.barplot(query_count.index, query_count.values, alpha=0.9)\n",
    "plt.title('Query Frequency Distribution')\n",
    "plt.ylabel('Number of Occurrences', fontsize=12)\n",
    "plt.xticks(rotation='vertical')\n",
    "plt.xlabel('Query', fontsize=12)\n",
    "plt.show()"
   ]
  },
  {
   "cell_type": "code",
   "execution_count": null,
   "metadata": {
    "collapsed": true
   },
   "outputs": [],
   "source": []
  }
 ],
 "metadata": {
  "kernelspec": {
   "display_name": "Python 3",
   "language": "python",
   "name": "python3"
  },
  "language_info": {
   "codemirror_mode": {
    "name": "ipython",
    "version": 3
   },
   "file_extension": ".py",
   "mimetype": "text/x-python",
   "name": "python",
   "nbconvert_exporter": "python",
   "pygments_lexer": "ipython3",
   "version": "3.6.3"
  }
 },
 "nbformat": 4,
 "nbformat_minor": 2
}
